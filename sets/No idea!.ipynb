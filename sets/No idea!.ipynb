{
 "cells": [
  {
   "cell_type": "code",
   "execution_count": null,
   "metadata": {},
   "outputs": [],
   "source": [
    "# Enter your code here. Read input from STDIN. Print output to STDOUT\n",
    "n,m=input().split()\n",
    "arr=[int(_) for _ in input().split()]\n",
    "A = set([int(y) for y in input().split()])\n",
    "B = set([int(z) for z in input().split()])\n",
    "happy=0\n",
    "for i in arr:\n",
    "    if i in A:\n",
    "        happy+=1\n",
    "    elif i in B:\n",
    "        happy-=1\n",
    "print(happy)\n"
   ]
  }
 ],
 "metadata": {
  "kernelspec": {
   "display_name": "Python 3",
   "language": "python",
   "name": "python3"
  }
 },
 "nbformat": 4,
 "nbformat_minor": 4
}
