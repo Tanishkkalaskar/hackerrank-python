{
 "cells": [
  {
   "cell_type": "code",
   "execution_count": null,
   "metadata": {},
   "outputs": [],
   "source": [
    "row,col=map(int,input().split())\n",
    "s=\".|.\"\n",
    "for i in range(0,(row//2)):\n",
    "    print((s*(i*2+1)).center(col,'-'))\n",
    "print('WELCOME'.center(col,'-'))\n",
    "for i in range((row//2),0,-1):\n",
    "    print((s*(i*2-1)).center(col,'-'))"
   ]
  }
 ],
 "metadata": {
  "kernelspec": {
   "display_name": "Python 3",
   "language": "python",
   "name": "python3"
  }
 },
 "nbformat": 4,
 "nbformat_minor": 4
}
