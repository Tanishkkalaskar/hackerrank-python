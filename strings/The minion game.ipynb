{
 "cells": [
  {
   "cell_type": "code",
   "execution_count": null,
   "metadata": {},
   "outputs": [],
   "source": [
    "def minion_game(string):\n",
    "    vowels=[\"A\",\"E\",\"I\",\"O\",\"U\"]\n",
    "    stuart=0\n",
    "    kevin=0\n",
    "    l=len(string)\n",
    "    for i in range(l):\n",
    "        if string[i] in vowels:\n",
    "            kevin=kevin+(l-i)\n",
    "        else:\n",
    "            stuart=stuart+(l-i)\n",
    "    # your code goes here\n",
    "    if stuart > kevin:\n",
    "        print(\"Stuart {}\".format(stuart))\n",
    "    elif kevin > stuart:\n",
    "        print(\"Kevin {}\".format(kevin))\n",
    "    else:\n",
    "        print(\"Draw\")\n",
    "if __name__ == '__main__':\n",
    "    s = input()\n",
    "    minion_game(s)"
   ]
  }
 ],
 "metadata": {
  "kernelspec": {
   "display_name": "Python 3",
   "language": "python",
   "name": "python3"
  }
 },
 "nbformat": 4,
 "nbformat_minor": 4
}
