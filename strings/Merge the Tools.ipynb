{
 "cells": [
  {
   "cell_type": "code",
   "execution_count": 16,
   "metadata": {},
   "outputs": [
    {
     "name": "stdout",
     "output_type": "stream",
     "text": [
      "AABCAAADA\n",
      "3\n",
      "['A', 'A', 'B']\n",
      "{'A': None, 'B': None}\n",
      "['A', 'B']\n",
      "AB\n",
      "['C', 'A', 'A']\n",
      "{'C': None, 'A': None}\n",
      "['C', 'A']\n",
      "CA\n",
      "['A', 'D', 'A']\n",
      "{'A': None, 'D': None}\n",
      "['A', 'D']\n",
      "AD\n"
     ]
    }
   ],
   "source": [
    "def merge_the_tools(string, k):\n",
    "    li=[]\n",
    "    length=len(string)\n",
    "    m=0\n",
    "    for i in range(0,length//k):\n",
    "        li.append(string[m:m+k])\n",
    "        m+=k\n",
    "    for i in li:\n",
    "        print(''.join(list(dict.fromkeys(list(i)).keys())))\n",
    "    \n",
    "    # your code goes here\n",
    "\n",
    "if __name__ == '__main__':\n",
    "    string, k = input(), int(input())\n",
    "    merge_the_tools(string, k)"
   ]
  },
  {
   "cell_type": "code",
   "execution_count": null,
   "metadata": {},
   "outputs": [],
   "source": [
    "2"
   ]
  }
 ],
 "metadata": {
  "kernelspec": {
   "display_name": "Python 3",
   "language": "python",
   "name": "python3"
  },
  "language_info": {
   "codemirror_mode": {
    "name": "ipython",
    "version": 3
   },
   "file_extension": ".py",
   "mimetype": "text/x-python",
   "name": "python",
   "nbconvert_exporter": "python",
   "pygments_lexer": "ipython3",
   "version": "3.7.6"
  }
 },
 "nbformat": 4,
 "nbformat_minor": 4
}
