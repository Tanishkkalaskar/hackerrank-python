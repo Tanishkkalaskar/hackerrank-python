{
 "cells": [
  {
   "cell_type": "code",
   "execution_count": null,
   "metadata": {},
   "outputs": [],
   "source": [
    "def print_rangoli(size):\n",
    "    li=[chr(i) for i in range(97,97+size)]\n",
    "    l2=[i for i in li[:-5:-1]]\n",
    "    n=len(li)\n",
    "    row=(size*2)-1\n",
    "    middle_row=li[n-1::-1]+li[1:n]\n",
    "    col=len('-'.join(middle_row))\n",
    "    for i in range(1,n):\n",
    "        print('-'.join(li[n-1:n-i:-1]+li[n-i:n]).center(col,'-'))\n",
    "    for i in range(n,0,-1):\n",
    "        print('-'.join(li[n-1:n-i:-1]+li[n-i:n]).center(col,'-'))\n",
    "    # your code goes here\n",
    "\n",
    "if __name__ == '__main__':\n",
    "    n = int(input())\n",
    "    print_rangoli(n)"
   ]
  }
 ],
 "metadata": {
  "kernelspec": {
   "display_name": "Python 3",
   "language": "python",
   "name": "python3"
  },
  "language_info": {
   "codemirror_mode": {
    "name": "ipython",
    "version": 3
   },
   "file_extension": ".py",
   "mimetype": "text/x-python",
   "name": "python",
   "nbconvert_exporter": "python",
   "pygments_lexer": "ipython3",
   "version": "3.7.6"
  }
 },
 "nbformat": 4,
 "nbformat_minor": 4
}
