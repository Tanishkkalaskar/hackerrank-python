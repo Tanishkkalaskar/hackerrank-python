{
 "cells": [
  {
   "cell_type": "code",
   "execution_count": null,
   "metadata": {},
   "outputs": [],
   "source": [
    "l1=[]\n",
    "sc=[]\n",
    "result=[]\n",
    "for _ in range(int(raw_input())):\n",
    "    name = raw_input()\n",
    "    score = float(raw_input())\n",
    "    sc.append(score)\n",
    "    l1.append([name,score])\n",
    "sc1=sorted(list(set(sc)))\n",
    "for i in l1:\n",
    "    if i[1]==sc1[1]:\n",
    "        result.append(i[0])\n",
    "print('\\n'.join(sorted(result)))"
   ]
  }
 ],
 "metadata": {
  "kernelspec": {
   "display_name": "Python 3",
   "language": "python",
   "name": "python3"
  }
 },
 "nbformat": 4,
 "nbformat_minor": 4
}
