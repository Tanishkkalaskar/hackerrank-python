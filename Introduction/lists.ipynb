{
 "cells": [
  {
   "cell_type": "code",
   "execution_count": null,
   "metadata": {},
   "outputs": [],
   "source": [
    "li=[]\n",
    "if __name__ == '__main__':\n",
    "    N = int(input())\n",
    "    for i in range(N):\n",
    "        cmd=input().split()\n",
    "        if cmd[0]==\"insert\":\n",
    "            li.insert(int(cmd[1]),int(cmd[2]))\n",
    "        elif cmd[0]==\"remove\":\n",
    "            li.remove(int(cmd[1]))\n",
    "        elif cmd[0]==\"print\":\n",
    "            print(li)\n",
    "        elif cmd[0]==\"sort\":\n",
    "            li.sort()\n",
    "        elif cmd[0]==\"pop\":\n",
    "            li.pop()\n",
    "        elif cmd[0]==\"reverse\":\n",
    "            li.reverse()\n",
    "        elif cmd[0]==\"append\":\n",
    "            li.append(int(cmd[1]))"
   ]
  }
 ],
 "metadata": {
  "kernelspec": {
   "display_name": "Python 3",
   "language": "python",
   "name": "python3"
  },
  "language_info": {
   "codemirror_mode": {
    "name": "ipython",
    "version": 3
   },
   "file_extension": ".py",
   "mimetype": "text/x-python",
   "name": "python",
   "nbconvert_exporter": "python",
   "pygments_lexer": "ipython3",
   "version": "3.7.6"
  }
 },
 "nbformat": 4,
 "nbformat_minor": 4
}
